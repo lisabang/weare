{
 "cells": [
  {
   "cell_type": "code",
   "execution_count": 2,
   "metadata": {},
   "outputs": [
    {
     "name": "stdout",
     "output_type": "stream",
     "text": [
      "SMf72107e537644cdfb83e173cdcbf320a\n"
     ]
    }
   ],
   "source": [
    "# Download the helper library from https://www.twilio.com/docs/python/install\n",
    "from twilio.rest import Client\n",
    "\n",
    "\n",
    "# Your Account Sid and Auth Token from twilio.com/console\n",
    "# DANGER! This is insecure. See http://twil.io/secure\n",
    "account_sid = 'ACca7f5e92f0612dd2ca1052ce09d1218f'\n",
    "auth_token = 'd26730dc1f847cb1e6bb21c1f81ac8b7'\n",
    "client = Client(account_sid, auth_token)\n",
    "\n",
    "message = client.messages \\\n",
    "    .create(\n",
    "         body='I`m so fucking horny for art hoes. I want to fuck a coked-out tumblr hipster DIY aesthetic astrology thot in her lip gloss DSL mouth. I want to cum all over a girl with thick frame glasses and edge dyed bobcut bangs. Everytime I hear a THICK, waist-high-jean-clad braindead choker-wearing slutty wiccan minx say `yikes`, `y`all`, `big mood`, `cancelled` or `this is a bop,` I get an uncontrollable urge to run up to her and fondle her d cups and sweaty fat thighs. I want to pour my white olive oil onto their contoured cheeks and neotenous faces and rhinoplastized nose. I want to finger an art hoe through her jean overalls while pretending to be interested as she talks about van gogh and arctic monkeys and how david foster wallace fans suck and gilles deleuze and VICE news and `union pool` in williamsburg and steven universe and homeopathy and saveur magazine and taking adderall to pass exams. I`m SO. FUCKING. HORNY.',\n",
    "         from_='+17178999386',\n",
    "         to='+18148269035'\n",
    "     )\n",
    "\n",
    "print(message.sid)"
   ]
  }
 ],
 "metadata": {
  "kernelspec": {
   "display_name": "Python 3",
   "language": "python",
   "name": "python3"
  },
  "language_info": {
   "codemirror_mode": {
    "name": "ipython",
    "version": 3
   },
   "file_extension": ".py",
   "mimetype": "text/x-python",
   "name": "python",
   "nbconvert_exporter": "python",
   "pygments_lexer": "ipython3",
   "version": "3.7.1"
  }
 },
 "nbformat": 4,
 "nbformat_minor": 2
}
